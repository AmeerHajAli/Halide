{
 "cells": [
  {
   "cell_type": "code",
   "execution_count": 122,
   "metadata": {},
   "outputs": [],
   "source": [
    "should_plot_autotune_without_retraining = False\n",
    "should_plot_autotune_with_retraining = False\n",
    "autotune_autoscheduler = \"beam\""
   ]
  },
  {
   "cell_type": "code",
   "execution_count": 123,
   "metadata": {},
   "outputs": [],
   "source": [
    "import pandas as pd\n",
    "import matplotlib.pyplot as plt"
   ]
  },
  {
   "cell_type": "code",
   "execution_count": 124,
   "metadata": {},
   "outputs": [],
   "source": [
    "df = pd.read_csv(\"results.csv\", index_col=\"test\")"
   ]
  },
  {
   "cell_type": "code",
   "execution_count": 125,
   "metadata": {},
   "outputs": [],
   "source": [
    "if should_plot_autotune_without_retraining:\n",
    "    df_auto = pd.read_csv(\"../autotune/noretrain/{}/results.csv\".format(autotune_autoscheduler), index_col=\"test\")\n",
    "    df[\"auto\"] = df_auto[\"time\"]\n",
    "\n",
    "if should_plot_autotune_with_retraining:\n",
    "    df_auto = pd.read_csv(\"../autotune/retrain/{}/results.csv\".format(autotune_autoscheduler), index_col=\"test\")\n",
    "    df[\"retrain\"] = df_auto[\"time\"]"
   ]
  },
  {
   "cell_type": "code",
   "execution_count": 126,
   "metadata": {},
   "outputs": [
    {
     "data": {
      "text/html": [
       "<div>\n",
       "<style scoped>\n",
       "    .dataframe tbody tr th:only-of-type {\n",
       "        vertical-align: middle;\n",
       "    }\n",
       "\n",
       "    .dataframe tbody tr th {\n",
       "        vertical-align: top;\n",
       "    }\n",
       "\n",
       "    .dataframe thead th {\n",
       "        text-align: right;\n",
       "    }\n",
       "</style>\n",
       "<table border=\"1\" class=\"dataframe\">\n",
       "  <thead>\n",
       "    <tr style=\"text-align: right;\">\n",
       "      <th></th>\n",
       "      <th>master</th>\n",
       "      <th>greedy</th>\n",
       "      <th>beam</th>\n",
       "      <th>manual</th>\n",
       "      <th>mcts</th>\n",
       "      <th>auto</th>\n",
       "      <th>retrain</th>\n",
       "    </tr>\n",
       "    <tr>\n",
       "      <th>test</th>\n",
       "      <th></th>\n",
       "      <th></th>\n",
       "      <th></th>\n",
       "      <th></th>\n",
       "      <th></th>\n",
       "      <th></th>\n",
       "      <th></th>\n",
       "    </tr>\n",
       "  </thead>\n",
       "  <tbody>\n",
       "    <tr>\n",
       "      <th>bilateral_grid</th>\n",
       "      <td>0.009575</td>\n",
       "      <td>0.014288</td>\n",
       "      <td>0.013507</td>\n",
       "      <td>0.011785</td>\n",
       "      <td>0</td>\n",
       "      <td>0.012026</td>\n",
       "      <td>0.012026</td>\n",
       "    </tr>\n",
       "    <tr>\n",
       "      <th>local_laplacian</th>\n",
       "      <td>0.094920</td>\n",
       "      <td>0.162373</td>\n",
       "      <td>0.110560</td>\n",
       "      <td>0.063060</td>\n",
       "      <td>0</td>\n",
       "      <td>NaN</td>\n",
       "      <td>NaN</td>\n",
       "    </tr>\n",
       "    <tr>\n",
       "      <th>nl_means</th>\n",
       "      <td>0.145172</td>\n",
       "      <td>0.217584</td>\n",
       "      <td>0.065779</td>\n",
       "      <td>0.105065</td>\n",
       "      <td>0</td>\n",
       "      <td>NaN</td>\n",
       "      <td>NaN</td>\n",
       "    </tr>\n",
       "    <tr>\n",
       "      <th>lens_blur</th>\n",
       "      <td>0.020443</td>\n",
       "      <td>0.000000</td>\n",
       "      <td>0.000000</td>\n",
       "      <td>0.006252</td>\n",
       "      <td>0</td>\n",
       "      <td>NaN</td>\n",
       "      <td>NaN</td>\n",
       "    </tr>\n",
       "    <tr>\n",
       "      <th>camera_pipe</th>\n",
       "      <td>0.011569</td>\n",
       "      <td>0.009658</td>\n",
       "      <td>0.010281</td>\n",
       "      <td>0.006494</td>\n",
       "      <td>0</td>\n",
       "      <td>NaN</td>\n",
       "      <td>NaN</td>\n",
       "    </tr>\n",
       "    <tr>\n",
       "      <th>stencil_chain</th>\n",
       "      <td>0.020450</td>\n",
       "      <td>0.039226</td>\n",
       "      <td>0.030839</td>\n",
       "      <td>0.018307</td>\n",
       "      <td>0</td>\n",
       "      <td>NaN</td>\n",
       "      <td>NaN</td>\n",
       "    </tr>\n",
       "    <tr>\n",
       "      <th>harris</th>\n",
       "      <td>0.002938</td>\n",
       "      <td>0.003928</td>\n",
       "      <td>0.002050</td>\n",
       "      <td>0.002122</td>\n",
       "      <td>0</td>\n",
       "      <td>NaN</td>\n",
       "      <td>NaN</td>\n",
       "    </tr>\n",
       "    <tr>\n",
       "      <th>hist</th>\n",
       "      <td>0.005263</td>\n",
       "      <td>0.005864</td>\n",
       "      <td>0.005841</td>\n",
       "      <td>0.001563</td>\n",
       "      <td>0</td>\n",
       "      <td>NaN</td>\n",
       "      <td>NaN</td>\n",
       "    </tr>\n",
       "    <tr>\n",
       "      <th>max_filter</th>\n",
       "      <td>0.084361</td>\n",
       "      <td>0.143617</td>\n",
       "      <td>0.070085</td>\n",
       "      <td>0.080337</td>\n",
       "      <td>0</td>\n",
       "      <td>NaN</td>\n",
       "      <td>NaN</td>\n",
       "    </tr>\n",
       "    <tr>\n",
       "      <th>unsharp</th>\n",
       "      <td>0.004737</td>\n",
       "      <td>0.004221</td>\n",
       "      <td>0.003660</td>\n",
       "      <td>0.004007</td>\n",
       "      <td>0</td>\n",
       "      <td>NaN</td>\n",
       "      <td>NaN</td>\n",
       "    </tr>\n",
       "    <tr>\n",
       "      <th>interpolate</th>\n",
       "      <td>0.023547</td>\n",
       "      <td>0.013356</td>\n",
       "      <td>0.026515</td>\n",
       "      <td>0.008453</td>\n",
       "      <td>0</td>\n",
       "      <td>NaN</td>\n",
       "      <td>NaN</td>\n",
       "    </tr>\n",
       "    <tr>\n",
       "      <th>conv_layer</th>\n",
       "      <td>0.057182</td>\n",
       "      <td>0.089656</td>\n",
       "      <td>0.061634</td>\n",
       "      <td>0.036622</td>\n",
       "      <td>0</td>\n",
       "      <td>NaN</td>\n",
       "      <td>NaN</td>\n",
       "    </tr>\n",
       "    <tr>\n",
       "      <th>iir_blur</th>\n",
       "      <td>0.253812</td>\n",
       "      <td>0.094965</td>\n",
       "      <td>0.023427</td>\n",
       "      <td>0.013704</td>\n",
       "      <td>0</td>\n",
       "      <td>NaN</td>\n",
       "      <td>NaN</td>\n",
       "    </tr>\n",
       "    <tr>\n",
       "      <th>bgu</th>\n",
       "      <td>0.067726</td>\n",
       "      <td>0.015955</td>\n",
       "      <td>0.008009</td>\n",
       "      <td>0.009613</td>\n",
       "      <td>0</td>\n",
       "      <td>NaN</td>\n",
       "      <td>NaN</td>\n",
       "    </tr>\n",
       "  </tbody>\n",
       "</table>\n",
       "</div>"
      ],
      "text/plain": [
       "                   master    greedy      beam    manual  mcts      auto  \\\n",
       "test                                                                      \n",
       "bilateral_grid   0.009575  0.014288  0.013507  0.011785     0  0.012026   \n",
       "local_laplacian  0.094920  0.162373  0.110560  0.063060     0       NaN   \n",
       "nl_means         0.145172  0.217584  0.065779  0.105065     0       NaN   \n",
       "lens_blur        0.020443  0.000000  0.000000  0.006252     0       NaN   \n",
       "camera_pipe      0.011569  0.009658  0.010281  0.006494     0       NaN   \n",
       "stencil_chain    0.020450  0.039226  0.030839  0.018307     0       NaN   \n",
       "harris           0.002938  0.003928  0.002050  0.002122     0       NaN   \n",
       "hist             0.005263  0.005864  0.005841  0.001563     0       NaN   \n",
       "max_filter       0.084361  0.143617  0.070085  0.080337     0       NaN   \n",
       "unsharp          0.004737  0.004221  0.003660  0.004007     0       NaN   \n",
       "interpolate      0.023547  0.013356  0.026515  0.008453     0       NaN   \n",
       "conv_layer       0.057182  0.089656  0.061634  0.036622     0       NaN   \n",
       "iir_blur         0.253812  0.094965  0.023427  0.013704     0       NaN   \n",
       "bgu              0.067726  0.015955  0.008009  0.009613     0       NaN   \n",
       "\n",
       "                  retrain  \n",
       "test                       \n",
       "bilateral_grid   0.012026  \n",
       "local_laplacian       NaN  \n",
       "nl_means              NaN  \n",
       "lens_blur             NaN  \n",
       "camera_pipe           NaN  \n",
       "stencil_chain         NaN  \n",
       "harris                NaN  \n",
       "hist                  NaN  \n",
       "max_filter            NaN  \n",
       "unsharp               NaN  \n",
       "interpolate           NaN  \n",
       "conv_layer            NaN  \n",
       "iir_blur              NaN  \n",
       "bgu                   NaN  "
      ]
     },
     "execution_count": 126,
     "metadata": {},
     "output_type": "execute_result"
    }
   ],
   "source": [
    "df"
   ]
  },
  {
   "cell_type": "code",
   "execution_count": 127,
   "metadata": {},
   "outputs": [],
   "source": [
    "df_scaled = df.copy()\n",
    "\n",
    "cols = ['master', 'greedy', 'beam', 'manual', 'mcts']\n",
    "\n",
    "if should_plot_autotune_without_retraining:\n",
    "    cols.append('auto')\n",
    "if should_plot_autotune_with_retraining:\n",
    "    cols.append('retrain')\n",
    "\n",
    "for col in cols:\n",
    "    df_scaled[col] /= df['manual']\n",
    "    df_scaled[col] = 1 / df_scaled[col]"
   ]
  },
  {
   "cell_type": "code",
   "execution_count": 128,
   "metadata": {},
   "outputs": [
    {
     "data": {
      "text/plain": [
       "Text(0, 0.5, 'Normalized speedup')"
      ]
     },
     "execution_count": 128,
     "metadata": {},
     "output_type": "execute_result"
    },
    {
     "data": {
      "image/png": "[encoded data removed]",
      "text/plain": [
       "<Figure size 1080x720 with 1 Axes>"
      ]
     },
     "metadata": {
      "needs_background": "light"
     },
     "output_type": "display_data"
    }
   ],
   "source": [
    "df_scaled.plot(kind='bar', figsize=(15,10))\n",
    "plt.ylabel(\"Normalized speedup\")"
   ]
  },
  {
   "cell_type": "code",
   "execution_count": null,
   "metadata": {},
   "outputs": [],
   "source": []
  },
  {
   "cell_type": "code",
   "execution_count": null,
   "metadata": {},
   "outputs": [],
   "source": []
  },
  {
   "cell_type": "code",
   "execution_count": null,
   "metadata": {},
   "outputs": [],
   "source": []
  },
  {
   "cell_type": "code",
   "execution_count": null,
   "metadata": {},
   "outputs": [],
   "source": []
  },
  {
   "cell_type": "code",
   "execution_count": null,
   "metadata": {},
   "outputs": [],
   "source": []
  },
  {
   "cell_type": "code",
   "execution_count": null,
   "metadata": {},
   "outputs": [],
   "source": []
  },
  {
   "cell_type": "code",
   "execution_count": null,
   "metadata": {},
   "outputs": [],
   "source": []
  },
  {
   "cell_type": "code",
   "execution_count": null,
   "metadata": {},
   "outputs": [],
   "source": []
  },
  {
   "cell_type": "markdown",
   "metadata": {},
   "source": [
    "# \"standalone_autoscheduler\" branch"
   ]
  },
  {
   "cell_type": "code",
   "execution_count": 41,
   "metadata": {},
   "outputs": [],
   "source": [
    "df_scaled = df.copy()\n",
    "\n",
    "cols = ['master', 'greedy', 'beam', 'manual']\n",
    "for col in cols:\n",
    "    df_scaled[col] /= df['master']\n",
    "    df_scaled[col] = 1 / df_scaled[col]"
   ]
  },
  {
   "cell_type": "code",
   "execution_count": 42,
   "metadata": {},
   "outputs": [
    {
     "data": {
      "text/plain": [
       "<matplotlib.axes._subplots.AxesSubplot at 0x7fc5af222048>"
      ]
     },
     "execution_count": 42,
     "metadata": {},
     "output_type": "execute_result"
    },
    {
     "data": {
      "image/png": "[encoded data removed]",
      "text/plain": [
       "<Figure size 1080x360 with 1 Axes>"
      ]
     },
     "metadata": {
      "needs_background": "light"
     },
     "output_type": "display_data"
    }
   ],
   "source": [
    "df_scaled.plot(kind='bar', figsize=(15,5))"
   ]
  },
  {
   "cell_type": "markdown",
   "metadata": {},
   "source": [
    "* Bilateral grid: Does not match. Greedy should do better than master, and beam should be better than greedy. Manual should be slowest.\n",
    "* Local laplacion: Does not match."
   ]
  },
  {
   "cell_type": "code",
   "execution_count": null,
   "metadata": {},
   "outputs": [],
   "source": []
  }
 ],
 "metadata": {
  "kernelspec": {
   "display_name": "Python 3",
   "language": "python",
   "name": "python3"
  },
  "language_info": {
   "codemirror_mode": {
    "name": "ipython",
    "version": 3
   },
   "file_extension": ".py",
   "mimetype": "text/x-python",
   "name": "python",
   "nbconvert_exporter": "python",
   "pygments_lexer": "ipython3",
   "version": "3.6.8"
  }
 },
 "nbformat": 4,
 "nbformat_minor": 4
}
