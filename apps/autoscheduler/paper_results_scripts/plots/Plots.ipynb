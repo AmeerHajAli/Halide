{
 "cells": [
  {
   "cell_type": "code",
   "execution_count": 25,
   "metadata": {},
   "outputs": [],
   "source": [
    "import pandas as pd\n",
    "import matplotlib.pyplot as plt"
   ]
  },
  {
   "cell_type": "code",
   "execution_count": 26,
   "metadata": {},
   "outputs": [],
   "source": [
    "df = pd.read_csv(\"results.csv\", index_col=\"test\")"
   ]
  },
  {
   "cell_type": "code",
   "execution_count": 27,
   "metadata": {},
   "outputs": [
    {
     "data": {
      "text/html": [
       "<div>\n",
       "<style scoped>\n",
       "    .dataframe tbody tr th:only-of-type {\n",
       "        vertical-align: middle;\n",
       "    }\n",
       "\n",
       "    .dataframe tbody tr th {\n",
       "        vertical-align: top;\n",
       "    }\n",
       "\n",
       "    .dataframe thead th {\n",
       "        text-align: right;\n",
       "    }\n",
       "</style>\n",
       "<table border=\"1\" class=\"dataframe\">\n",
       "  <thead>\n",
       "    <tr style=\"text-align: right;\">\n",
       "      <th></th>\n",
       "      <th>greedy</th>\n",
       "      <th>beam</th>\n",
       "      <th>manual</th>\n",
       "      <th>mcts</th>\n",
       "    </tr>\n",
       "    <tr>\n",
       "      <th>test</th>\n",
       "      <th></th>\n",
       "      <th></th>\n",
       "      <th></th>\n",
       "      <th></th>\n",
       "    </tr>\n",
       "  </thead>\n",
       "  <tbody>\n",
       "    <tr>\n",
       "      <th>bilateral_grid</th>\n",
       "      <td>0.009270</td>\n",
       "      <td>0.009218</td>\n",
       "      <td>0.011234</td>\n",
       "      <td>0.009223</td>\n",
       "    </tr>\n",
       "    <tr>\n",
       "      <th>local_laplacian</th>\n",
       "      <td>0.091627</td>\n",
       "      <td>0.096943</td>\n",
       "      <td>0.060878</td>\n",
       "      <td>0.099053</td>\n",
       "    </tr>\n",
       "    <tr>\n",
       "      <th>nl_means</th>\n",
       "      <td>0.137146</td>\n",
       "      <td>0.138931</td>\n",
       "      <td>0.101992</td>\n",
       "      <td>0.136551</td>\n",
       "    </tr>\n",
       "    <tr>\n",
       "      <th>lens_blur</th>\n",
       "      <td>0.020816</td>\n",
       "      <td>0.020542</td>\n",
       "      <td>0.005877</td>\n",
       "      <td>0.021197</td>\n",
       "    </tr>\n",
       "    <tr>\n",
       "      <th>camera_pipe</th>\n",
       "      <td>0.000000</td>\n",
       "      <td>0.000000</td>\n",
       "      <td>0.000000</td>\n",
       "      <td>0.000000</td>\n",
       "    </tr>\n",
       "    <tr>\n",
       "      <th>stencil_chain</th>\n",
       "      <td>0.019827</td>\n",
       "      <td>0.019624</td>\n",
       "      <td>0.017881</td>\n",
       "      <td>0.019635</td>\n",
       "    </tr>\n",
       "    <tr>\n",
       "      <th>harris</th>\n",
       "      <td>0.002945</td>\n",
       "      <td>0.002866</td>\n",
       "      <td>0.002030</td>\n",
       "      <td>0.003066</td>\n",
       "    </tr>\n",
       "    <tr>\n",
       "      <th>hist</th>\n",
       "      <td>0.005708</td>\n",
       "      <td>0.005624</td>\n",
       "      <td>0.001680</td>\n",
       "      <td>0.006278</td>\n",
       "    </tr>\n",
       "    <tr>\n",
       "      <th>max_filter</th>\n",
       "      <td>0.072901</td>\n",
       "      <td>0.082563</td>\n",
       "      <td>0.071793</td>\n",
       "      <td>0.063632</td>\n",
       "    </tr>\n",
       "    <tr>\n",
       "      <th>unsharp</th>\n",
       "      <td>0.005958</td>\n",
       "      <td>0.005660</td>\n",
       "      <td>0.003456</td>\n",
       "      <td>0.004580</td>\n",
       "    </tr>\n",
       "    <tr>\n",
       "      <th>interpolate</th>\n",
       "      <td>0.023202</td>\n",
       "      <td>0.021809</td>\n",
       "      <td>0.006368</td>\n",
       "      <td>0.022052</td>\n",
       "    </tr>\n",
       "    <tr>\n",
       "      <th>conv_layer</th>\n",
       "      <td>0.055839</td>\n",
       "      <td>0.056211</td>\n",
       "      <td>0.036113</td>\n",
       "      <td>0.055892</td>\n",
       "    </tr>\n",
       "    <tr>\n",
       "      <th>iir_blur</th>\n",
       "      <td>0.265588</td>\n",
       "      <td>0.261603</td>\n",
       "      <td>0.013164</td>\n",
       "      <td>0.311595</td>\n",
       "    </tr>\n",
       "    <tr>\n",
       "      <th>bgu</th>\n",
       "      <td>0.066966</td>\n",
       "      <td>0.070928</td>\n",
       "      <td>0.009127</td>\n",
       "      <td>0.065995</td>\n",
       "    </tr>\n",
       "  </tbody>\n",
       "</table>\n",
       "</div>"
      ],
      "text/plain": [
       "                   greedy      beam    manual      mcts\n",
       "test                                                   \n",
       "bilateral_grid   0.009270  0.009218  0.011234  0.009223\n",
       "local_laplacian  0.091627  0.096943  0.060878  0.099053\n",
       "nl_means         0.137146  0.138931  0.101992  0.136551\n",
       "lens_blur        0.020816  0.020542  0.005877  0.021197\n",
       "camera_pipe      0.000000  0.000000  0.000000  0.000000\n",
       "stencil_chain    0.019827  0.019624  0.017881  0.019635\n",
       "harris           0.002945  0.002866  0.002030  0.003066\n",
       "hist             0.005708  0.005624  0.001680  0.006278\n",
       "max_filter       0.072901  0.082563  0.071793  0.063632\n",
       "unsharp          0.005958  0.005660  0.003456  0.004580\n",
       "interpolate      0.023202  0.021809  0.006368  0.022052\n",
       "conv_layer       0.055839  0.056211  0.036113  0.055892\n",
       "iir_blur         0.265588  0.261603  0.013164  0.311595\n",
       "bgu              0.066966  0.070928  0.009127  0.065995"
      ]
     },
     "execution_count": 27,
     "metadata": {},
     "output_type": "execute_result"
    }
   ],
   "source": [
    "df"
   ]
  },
  {
   "cell_type": "code",
   "execution_count": 28,
   "metadata": {},
   "outputs": [],
   "source": [
    "df_scaled = df.copy()\n",
    "\n",
    "cols = ['greedy', 'beam', 'manual', 'mcts']\n",
    "for col in cols:\n",
    "    df_scaled[col] /= df['manual']\n",
    "    df_scaled[col] = 1 / df_scaled[col]"
   ]
  },
  {
   "cell_type": "code",
   "execution_count": 30,
   "metadata": {},
   "outputs": [
    {
     "data": {
      "text/plain": [
       "Text(0, 0.5, 'Normalized speedup')"
      ]
     },
     "execution_count": 30,
     "metadata": {},
     "output_type": "execute_result"
    },
    {
     "data": {
      "image/png": "[encoded data removed]",
      "text/plain": [
       "<Figure size 1080x360 with 1 Axes>"
      ]
     },
     "metadata": {
      "needs_background": "light"
     },
     "output_type": "display_data"
    }
   ],
   "source": [
    "df_scaled.plot(kind='bar', figsize=(15,5))\n",
    "plt.ylabel(\"Normalized speedup\")"
   ]
  },
  {
   "cell_type": "code",
   "execution_count": null,
   "metadata": {},
   "outputs": [],
   "source": []
  },
  {
   "cell_type": "code",
   "execution_count": null,
   "metadata": {},
   "outputs": [],
   "source": []
  },
  {
   "cell_type": "code",
   "execution_count": null,
   "metadata": {},
   "outputs": [],
   "source": []
  },
  {
   "cell_type": "code",
   "execution_count": null,
   "metadata": {},
   "outputs": [],
   "source": []
  },
  {
   "cell_type": "code",
   "execution_count": null,
   "metadata": {},
   "outputs": [],
   "source": []
  },
  {
   "cell_type": "code",
   "execution_count": null,
   "metadata": {},
   "outputs": [],
   "source": []
  },
  {
   "cell_type": "code",
   "execution_count": null,
   "metadata": {},
   "outputs": [],
   "source": []
  },
  {
   "cell_type": "code",
   "execution_count": null,
   "metadata": {},
   "outputs": [],
   "source": []
  },
  {
   "cell_type": "markdown",
   "metadata": {},
   "source": [
    "# \"standalone_autoscheduler\" branch"
   ]
  },
  {
   "cell_type": "code",
   "execution_count": 41,
   "metadata": {},
   "outputs": [],
   "source": [
    "df_scaled = df.copy()\n",
    "\n",
    "cols = ['master', 'greedy', 'beam', 'manual']\n",
    "for col in cols:\n",
    "    df_scaled[col] /= df['master']\n",
    "    df_scaled[col] = 1 / df_scaled[col]"
   ]
  },
  {
   "cell_type": "code",
   "execution_count": 42,
   "metadata": {},
   "outputs": [
    {
     "data": {
      "text/plain": [
       "<matplotlib.axes._subplots.AxesSubplot at 0x7fc5af222048>"
      ]
     },
     "execution_count": 42,
     "metadata": {},
     "output_type": "execute_result"
    },
    {
     "data": {
      "image/png": "[encoded data removed]",
      "text/plain": [
       "<Figure size 1080x360 with 1 Axes>"
      ]
     },
     "metadata": {
      "needs_background": "light"
     },
     "output_type": "display_data"
    }
   ],
   "source": [
    "df_scaled.plot(kind='bar', figsize=(15,5))"
   ]
  },
  {
   "cell_type": "markdown",
   "metadata": {},
   "source": [
    "* Bilateral grid: Does not match. Greedy should do better than master, and beam should be better than greedy. Manual should be slowest.\n",
    "* Local laplacion: Does not match."
   ]
  },
  {
   "cell_type": "code",
   "execution_count": null,
   "metadata": {},
   "outputs": [],
   "source": []
  }
 ],
 "metadata": {
  "kernelspec": {
   "display_name": "Python 3",
   "language": "python",
   "name": "python3"
  },
  "language_info": {
   "codemirror_mode": {
    "name": "ipython",
    "version": 3
   },
   "file_extension": ".py",
   "mimetype": "text/x-python",
   "name": "python",
   "nbconvert_exporter": "python",
   "pygments_lexer": "ipython3",
   "version": "3.6.8"
  }
 },
 "nbformat": 4,
 "nbformat_minor": 4
}
